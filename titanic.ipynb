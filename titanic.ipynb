{
 "cells": [
  {
   "cell_type": "code",
   "execution_count": null,
   "id": "b207a1cd",
   "metadata": {},
   "outputs": [],
   "source": [
    "import pandas as pd\n",
    "import numpy as np\n",
    "np.random.seed(42)\n",
    "\n",
    "train_set, test_set = pd.read_csv(\"dataset/train.csv\"), pd.read_csv(\"dataset/test.csv\")"
   ]
  },
  {
   "cell_type": "code",
   "execution_count": null,
   "id": "caecf73d",
   "metadata": {},
   "outputs": [],
   "source": [
    "train_set = train_set.sample(frac = 1, random_state=42)\n",
    "test_set"
   ]
  },
  {
   "cell_type": "code",
   "execution_count": null,
   "id": "fb5764c5",
   "metadata": {},
   "outputs": [],
   "source": [
    "train_set.hist(bins = 50, figsize = (12, 8))"
   ]
  },
  {
   "cell_type": "code",
   "execution_count": null,
   "id": "bad5a89c",
   "metadata": {},
   "outputs": [],
   "source": [
    "from pandas.plotting import scatter_matrix\n",
    "\n",
    "scatter_matrix(train_set, figsize = (12, 8))"
   ]
  },
  {
   "cell_type": "code",
   "execution_count": null,
   "id": "9e6d68bc",
   "metadata": {},
   "outputs": [],
   "source": [
    "corr_matrix = train_set.corr()\n",
    "corr_matrix[\"Survived\"]"
   ]
  },
  {
   "cell_type": "code",
   "execution_count": null,
   "id": "ec9ee5a5",
   "metadata": {},
   "outputs": [],
   "source": [
    "train_set_2 = train_set.copy()\n",
    "train_set_2[\"class per fare\"] = train_set[\"Pclass\"] / train_set[\"Fare\"]\n",
    "train_set_2[\"class per age\"] = train_set[\"Pclass\"] / train_set[\"Age\"]\n",
    "train_set_2.corr()[\"Survived\"]\n",
    "#lower class and older more likely to survive\n",
    "#Lower class and high payment more likely for death (basically class)\n",
    "#lower class more likely to die (3)"
   ]
  },
  {
   "cell_type": "code",
   "execution_count": null,
   "id": "c2b1b1a9",
   "metadata": {},
   "outputs": [],
   "source": [
    "from sklearn.preprocessing import OneHotEncoder, OrdinalEncoder\n",
    "\n",
    "encoder = OneHotEncoder(sparse = False)\n",
    "train_cat = train_set[[\"Sex\"]]\n",
    "train_cat_prep = encoder.fit_transform(train_cat)"
   ]
  },
  {
   "cell_type": "code",
   "execution_count": null,
   "id": "c2448051",
   "metadata": {},
   "outputs": [],
   "source": [
    "new = pd.DataFrame(train_cat_prep, columns = encoder.get_feature_names_out())"
   ]
  },
  {
   "cell_type": "code",
   "execution_count": null,
   "id": "f96fbcd2",
   "metadata": {},
   "outputs": [],
   "source": [
    "train_ratio = train_set.copy()\n",
    "train_ratio.drop(\"Sex\", axis = 1)\n",
    "train_ratio[\"Sex_female\"] = new.loc[:,\"Sex_female\"]\n",
    "train_ratio[\"Sex_male\"] = new.loc[:,\"Sex_male\"]"
   ]
  },
  {
   "cell_type": "code",
   "execution_count": null,
   "id": "b069e7f5",
   "metadata": {},
   "outputs": [],
   "source": [
    "train_ratio.corr()[\"Survived\"]\n",
    "#males survive more than females"
   ]
  },
  {
   "cell_type": "code",
   "execution_count": null,
   "id": "9541a18c",
   "metadata": {},
   "outputs": [],
   "source": [
    "x_train, y_train = train_set.drop(\"Survived\", axis = 1), train_set[\"Survived\"]"
   ]
  },
  {
   "cell_type": "code",
   "execution_count": null,
   "id": "351454e1",
   "metadata": {},
   "outputs": [],
   "source": [
    "from sklearn.pipeline import Pipeline, make_pipeline\n",
    "from sklearn.preprocessing import FunctionTransformer\n",
    "from sklearn.impute import SimpleImputer\n",
    "from sklearn.preprocessing import StandardScaler\n",
    "\n",
    "def replace(x):\n",
    "    np.log(x)\n",
    "    x[x == -np.inf] = 0\n",
    "    return x\n",
    "\n",
    "num_pipeline = make_pipeline(SimpleImputer(strategy = \"median\"), StandardScaler())\n",
    "log_pipeline = make_pipeline(SimpleImputer(strategy = \"median\"), FunctionTransformer(replace, feature_names_out = \"one-to-one\"),\n",
    "                            StandardScaler())\n",
    "cat_pipeline = make_pipeline(OrdinalEncoder(), SimpleImputer(strategy = \"most_frequent\"), OneHotEncoder())"
   ]
  },
  {
   "cell_type": "code",
   "execution_count": null,
   "id": "2b4a6e81",
   "metadata": {},
   "outputs": [],
   "source": [
    "from sklearn.compose import ColumnTransformer, make_column_selector\n",
    "\n",
    "def column_ratio(x):\n",
    "    return x[:, [0]] / x[:, [1]]\n",
    "\n",
    "def ratio_name(function_transformer, feature_names_in):\n",
    "    return [\"ratio\"]\n",
    "\n",
    "def ratio_pipeline():\n",
    "    return make_pipeline(SimpleImputer(strategy = \"median\"), FunctionTransformer(column_ratio, feature_names_out = ratio_name), StandardScaler())\n",
    "\n",
    "preprocessing = ColumnTransformer([\n",
    "                                   (\"cat\", cat_pipeline, [\"Sex\", \"Embarked\"]),\n",
    "                                  (\"log\", log_pipeline, [\"Age\", \"Fare\"]),\n",
    "                                   (\"class_per_age\", ratio_pipeline(), [\"Pclass\", \"Age\"]),\n",
    "                                 (\"num\", num_pipeline, make_column_selector(dtype_include = np.number))])"
   ]
  },
  {
   "cell_type": "code",
   "execution_count": null,
   "id": "02e7f606",
   "metadata": {
    "scrolled": true
   },
   "outputs": [],
   "source": [
    "x_train_prep = preprocessing.fit_transform(x_train)"
   ]
  },
  {
   "cell_type": "code",
   "execution_count": null,
   "id": "3ff9b353",
   "metadata": {},
   "outputs": [],
   "source": [
    "from sklearn.neighbors import KNeighborsClassifier\n",
    "\n",
    "model = KNeighborsClassifier(n_neighbors = 11, leaf_size = 30)\n",
    "y_train_prep = y_train == 1\n",
    "model.fit(x_train_prep, y_train_prep)"
   ]
  },
  {
   "cell_type": "code",
   "execution_count": null,
   "id": "6b5b1b10",
   "metadata": {},
   "outputs": [],
   "source": [
    "model.predict(x_train_prep)"
   ]
  },
  {
   "cell_type": "code",
   "execution_count": null,
   "id": "e5c1c518",
   "metadata": {},
   "outputs": [],
   "source": [
    "from sklearn.model_selection import cross_val_score\n",
    "\n",
    "kn_scores = cross_val_score(model, x_train_prep, y_train_prep, cv = 10)"
   ]
  },
  {
   "cell_type": "code",
   "execution_count": null,
   "id": "7a7b11dc",
   "metadata": {},
   "outputs": [],
   "source": [
    "kn_scores.mean()"
   ]
  },
  {
   "cell_type": "code",
   "execution_count": null,
   "id": "2f6b767e",
   "metadata": {},
   "outputs": [],
   "source": [
    "#svc\n",
    "from sklearn.svm import SVC\n",
    "svm_clf = SVC(gamma = \"auto\")\n",
    "svm_scores = cross_val_score(svm_clf, x_train_prep, y_train_prep, cv = 10)\n",
    "svm_scores.mean()"
   ]
  },
  {
   "cell_type": "code",
   "execution_count": null,
   "id": "f74c988b",
   "metadata": {},
   "outputs": [],
   "source": [
    "preprocessing.get_feature_names_out()"
   ]
  },
  {
   "cell_type": "code",
   "execution_count": null,
   "id": "b14ac96d",
   "metadata": {},
   "outputs": [],
   "source": [
    "from sklearn.ensemble import RandomForestClassifier\n",
    "\n",
    "forest_clf = RandomForestClassifier(n_estimators = 100, random_state = 42)\n",
    "forest_clf.fit(x_train_prep, y_train_prep)"
   ]
  },
  {
   "cell_type": "code",
   "execution_count": null,
   "id": "6f15c9d1",
   "metadata": {},
   "outputs": [],
   "source": [
    "forest_scores = cross_val_score(forest_clf, x_train_prep, y_train_prep, cv = 10)\n",
    "forest_scores.mean()"
   ]
  },
  {
   "cell_type": "code",
   "execution_count": null,
   "id": "d9fdf054",
   "metadata": {},
   "outputs": [],
   "source": [
    "preprocess = Pipeline([(\"fit\", preprocessing), (\"forest\", RandomForestClassifier(n_estimators = 100, random_state = 42))])"
   ]
  },
  {
   "cell_type": "code",
   "execution_count": null,
   "id": "9c4e2351",
   "metadata": {},
   "outputs": [],
   "source": [
    "test_set_prep = preprocessing.fit_transform(test_set)\n",
    "test_set_prep.shape"
   ]
  },
  {
   "cell_type": "code",
   "execution_count": null,
   "id": "0cbd97cb",
   "metadata": {},
   "outputs": [],
   "source": [
    "predictions = forest_clf.predict(test_set_prep)\n",
    "predictions = predictions.astype(int)"
   ]
  },
  {
   "cell_type": "code",
   "execution_count": null,
   "id": "8d0f6467",
   "metadata": {},
   "outputs": [],
   "source": [
    "submission = pd.DataFrame({\"PassengerId\": test_set[\"PassengerId\"], \"Survived\": predictions})\n",
    "submission.head()"
   ]
  }
 ],
 "metadata": {
  "kernelspec": {
   "display_name": "Python 3 (ipykernel)",
   "language": "python",
   "name": "python3"
  },
  "language_info": {
   "codemirror_mode": {
    "name": "ipython",
    "version": 3
   },
   "file_extension": ".py",
   "mimetype": "text/x-python",
   "name": "python",
   "nbconvert_exporter": "python",
   "pygments_lexer": "ipython3",
   "version": "3.9.16"
  }
 },
 "nbformat": 4,
 "nbformat_minor": 5
}
